{
 "cells": [
  {
   "cell_type": "markdown",
   "metadata": {},
   "source": [
    "# Examples of using SciPy for numerical integration\n",
    "\n",
    "If you want to solve definite integrals of the form:\n",
    "\n",
    "$$ I = \\int^b_a f(x)\\, dx$$\n",
    "\n",
    "SciPy as a range of routintes for you -- see the [SciPy documentation](https://docs.scipy.org/doc/scipy/reference/tutorial/integrate.html)"
   ]
  },
  {
   "cell_type": "code",
   "execution_count": 4,
   "metadata": {},
   "outputs": [],
   "source": [
    "from scipy import integrate\n",
    "import numpy as np"
   ]
  },
  {
   "cell_type": "code",
   "execution_count": 5,
   "metadata": {},
   "outputs": [],
   "source": [
    "def f(x):\n",
    "    return np.sin(x) + 2"
   ]
  },
  {
   "cell_type": "markdown",
   "metadata": {},
   "source": [
    "## Integrating a Python function\n",
    "\n",
    "If you have a function you can evaluate at any $x$ value then use `integrate.quad()`"
   ]
  },
  {
   "cell_type": "code",
   "execution_count": 14,
   "metadata": {},
   "outputs": [
    {
     "name": "stdout",
     "output_type": "stream",
     "text": [
      "(9.653643620863614, 1.0717697419408549e-13)\n",
      "9.653643620863612\n",
      "-2.220446049250313e-16\n"
     ]
    }
   ],
   "source": [
    "result = integrate.quad(f, 0, 4)\n",
    "\n",
    "exact = (-np.cos(4) +2*4) - (-np.cos(0) + 2*0)\n",
    "\n",
    "print(result)\n",
    "print(exact)\n",
    "print(1 - result[0]/exact)"
   ]
  },
  {
   "cell_type": "markdown",
   "metadata": {},
   "source": [
    "The second piece of data returned by `integrad.quad()` is an estimate of the error (made using estimates similar to the ones we derived in the lecture)"
   ]
  },
  {
   "cell_type": "markdown",
   "metadata": {},
   "source": [
    "# Integrating data on a fixed grid\n",
    "\n",
    "Often you only have data on a fixed grid (perhaps as output of another calculation). In this case there are special functions you can use that use trapezoidal, Simpson's rule, etc to integrate the data.\n",
    "\n",
    "Let's prepare some data first."
   ]
  },
  {
   "cell_type": "code",
   "execution_count": 38,
   "metadata": {},
   "outputs": [],
   "source": [
    "x = np.linspace(0, 4, 100)\n",
    "y = f(x)"
   ]
  },
  {
   "cell_type": "code",
   "execution_count": 39,
   "metadata": {},
   "outputs": [
    {
     "name": "stdout",
     "output_type": "stream",
     "text": [
      "Simpons rule: result = 9.653646. Error = 2.012309e-06\n",
      "Trapezoida rule: result = 9.653419, errpr = 2.249687e-04\n"
     ]
    }
   ],
   "source": [
    "resultSimpsons = integrate.simps(y,x)\n",
    "resultTrap = integrate.trapz(y,x)\n",
    "\n",
    "print(\"Simpons rule: result = %f. Error = %e\" % (resultSimpsons, np.abs(resultSimpsons - exact)))\n",
    "print(\"Trapezoida rule: result = %f, errpr = %e\" % (resultTrap, np.abs(resultTrap - exact)))"
   ]
  },
  {
   "cell_type": "code",
   "execution_count": null,
   "metadata": {},
   "outputs": [],
   "source": []
  }
 ],
 "metadata": {
  "kernelspec": {
   "display_name": "Python 3",
   "language": "python",
   "name": "python3"
  },
  "language_info": {
   "codemirror_mode": {
    "name": "ipython",
    "version": 3
   },
   "file_extension": ".py",
   "mimetype": "text/x-python",
   "name": "python",
   "nbconvert_exporter": "python",
   "pygments_lexer": "ipython3",
   "version": "3.7.5"
  }
 },
 "nbformat": 4,
 "nbformat_minor": 2
}
