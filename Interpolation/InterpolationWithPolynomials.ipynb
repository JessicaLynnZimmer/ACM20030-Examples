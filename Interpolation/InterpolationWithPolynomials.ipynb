{
 "cells": [
  {
   "cell_type": "markdown",
   "metadata": {},
   "source": [
    "# Interpolation with polynomials\n",
    "\n",
    "This notebook demonstrates the Lagrange polynomial and Newtons divided-difference methods for fitting an $n^\\text{th}$-order polynomial to a data set with $n+1$ elements"
   ]
  },
  {
   "cell_type": "markdown",
   "metadata": {},
   "source": [
    "## Lagrange polynomials"
   ]
  },
  {
   "cell_type": "code",
   "execution_count": 1,
   "metadata": {},
   "outputs": [],
   "source": [
    "import numpy as np\n",
    "import matplotlib.pyplot as plt\n",
    "\n",
    "# The below commands make the font and image size bigger\n",
    "plt.rcParams.update({'font.size': 22})\n",
    "plt.rcParams[\"figure.figsize\"] = (15,10)"
   ]
  },
  {
   "cell_type": "markdown",
   "metadata": {},
   "source": [
    "Below we enter the data we want to interpolate. The data comes in $(x,y)$ pairs, and does not need to be in any order."
   ]
  },
  {
   "cell_type": "code",
   "execution_count": 2,
   "metadata": {},
   "outputs": [
    {
     "name": "stdout",
     "output_type": "stream",
     "text": [
      "(6, 2)\n"
     ]
    }
   ],
   "source": [
    "data = np.array([[0,0], [1,2], [3,3], [-1,4], [6,5], [10,10]])\n",
    "print(data.shape)"
   ]
  },
  {
   "cell_type": "markdown",
   "metadata": {},
   "source": [
    "The formula for the Lagrange polynomial is: $$f_n(x) = \\sum_{i=1}^{n+1}f(x_i)L_i(x)$$ where $$L_i(x) = \\prod_{j=1,\\ne i}^{n+1} \\frac{x-x_j}{x_i-x_j}$$ Below is a function that implements this."
   ]
  },
  {
   "cell_type": "code",
   "execution_count": 3,
   "metadata": {},
   "outputs": [],
   "source": [
    "def LagrangePoly(x, data):\n",
    "    n = data.shape[0] - 1\n",
    "    i = 1\n",
    "    fn = 0\n",
    "    while i <= n + 1:\n",
    "        j = 1\n",
    "        Li = 1\n",
    "        while j <= n+1:\n",
    "            if(j == i):\n",
    "                j += 1\n",
    "                continue\n",
    "            Li *= (x - data[j-1,0])/(data[i-1,0] - data[j-1,0])\n",
    "            j += 1\n",
    "        fn += data[i-1,1]*Li\n",
    "        i += 1\n",
    "    return fn"
   ]
  },
  {
   "cell_type": "markdown",
   "metadata": {},
   "source": [
    "The function above works for a single value of x and also, by the wonders of NumPy, for an array of values. Let's prepare some x-values over which we want to plot the interpolating polynomial. We then provide this numpy array as an argument to the LagrangePoly( ) function."
   ]
  },
  {
   "cell_type": "code",
   "execution_count": 4,
   "metadata": {},
   "outputs": [],
   "source": [
    "xmin = np.min(data[:,0])\n",
    "xmax = np.max(data[:,1])\n",
    "x = np.linspace(xmin, xmax, 100)\n",
    "y = LagrangePoly(x, data)"
   ]
  },
  {
   "cell_type": "code",
   "execution_count": 5,
   "metadata": {
    "scrolled": false
   },
   "outputs": [
    {
     "data": {
      "image/png": "[encoded data removed]",
      "text/plain": [
       "<Figure size 432x288 with 1 Axes>"
      ]
     },
     "metadata": {
      "needs_background": "light"
     },
     "output_type": "display_data"
    }
   ],
   "source": [
    "plt.grid(True)\n",
    "plt.xlabel('x')\n",
    "plt.ylabel('y')\n",
    "plt.scatter(data[:,0],data[:,1], color='red', linewidths='10');\n",
    "plt.plot(x,y);"
   ]
  },
  {
   "cell_type": "markdown",
   "metadata": {},
   "source": [
    "## Newtons divided-difference polynomials"
   ]
  },
  {
   "cell_type": "markdown",
   "metadata": {},
   "source": [
    "Define the same data set we saw in the lectures"
   ]
  },
  {
   "cell_type": "code",
   "execution_count": 17,
   "metadata": {},
   "outputs": [],
   "source": [
    "testdata = np.array([[1,-2.5],[2,-6],[3,-7.5],[4,7.5],[6,120]])"
   ]
  },
  {
   "cell_type": "markdown",
   "metadata": {},
   "source": [
    "Define the Finite Difference (FD) function: $$ FD_{j,i}(x) = \\frac{f(x_{i+1} - f(x_i)}{x_{i+j} - x_i}$$"
   ]
  },
  {
   "cell_type": "code",
   "execution_count": 18,
   "metadata": {},
   "outputs": [],
   "source": [
    "def FD(x, fx, j):\n",
    "    n = fx.size\n",
    "    FD = np.zeros(n-1)\n",
    "    i = 0\n",
    "    while i < n-1:\n",
    "        FD[i] = (fx[i+1] - fx[i])/(x[i+j] - x[i])\n",
    "        i += 1\n",
    "    return FD"
   ]
  },
  {
   "cell_type": "markdown",
   "metadata": {},
   "source": [
    "Repeatly apply the Finite Difference function to get the table we saw in the lectures"
   ]
  },
  {
   "cell_type": "code",
   "execution_count": 19,
   "metadata": {},
   "outputs": [
    {
     "name": "stdout",
     "output_type": "stream",
     "text": [
      "[ -2.5  -6.   -7.5   7.5 120. ]\n",
      "[-3.5  -1.5  15.   56.25]\n",
      "[ 1.    8.25 13.75]\n",
      "[2.41666667 1.375     ]\n"
     ]
    }
   ],
   "source": [
    "fn = testdata[:,1]\n",
    "n = 1\n",
    "while n < testdata.shape[0]:\n",
    "    print(fn)\n",
    "    fn = FD(testdata[:,0], fn, n)\n",
    "    n += 1"
   ]
  },
  {
   "cell_type": "code",
   "execution_count": 20,
   "metadata": {},
   "outputs": [],
   "source": [
    "# This interpolates from the first data point onwards\n",
    "def NewtonsDividedDifference(x, data, nmax):\n",
    "    fn = data[0,1]\n",
    "    n = 0\n",
    "    xi = data[:,0]\n",
    "    FDi = FD(xi, data[:,1],1)\n",
    "    while n < nmax :\n",
    "        coeff = 1\n",
    "        i = 0\n",
    "        while i <= n:\n",
    "            coeff *= (x - data[i,0])\n",
    "            i += 1\n",
    "        fn += coeff*FDi[0]\n",
    "        FDi = FD(xi, FDi, n+2)\n",
    "        n += 1\n",
    "    return fn"
   ]
  },
  {
   "cell_type": "markdown",
   "metadata": {},
   "source": [
    "Compute and plot the linear, quadratic and cubic approximation"
   ]
  },
  {
   "cell_type": "code",
   "execution_count": 10,
   "metadata": {
    "scrolled": true
   },
   "outputs": [],
   "source": [
    "x = np.linspace(0, 7, 100)\n",
    "y1 = NewtonsDividedDifference(x, testdata, 1)\n",
    "y2 = NewtonsDividedDifference(x, testdata, 2)\n",
    "y3 = NewtonsDividedDifference(x, testdata, 3)"
   ]
  },
  {
   "cell_type": "code",
   "execution_count": 11,
   "metadata": {},
   "outputs": [
    {
     "data": {
      "image/png": "[encoded data removed]",
      "text/plain": [
       "<Figure size 432x288 with 1 Axes>"
      ]
     },
     "metadata": {
      "needs_background": "light"
     },
     "output_type": "display_data"
    }
   ],
   "source": [
    "plt.grid(True)\n",
    "plt.scatter(testdata[:,0], testdata[:,1], color='red', linewidths='10');\n",
    "plt.plot(x,y1);\n",
    "plt.plot(x,y2);\n",
    "plt.plot(x,y3);"
   ]
  },
  {
   "cell_type": "markdown",
   "metadata": {},
   "source": [
    "Use the Newton divided-difference method to fit the same data as we used with the Lagrange polynomials"
   ]
  },
  {
   "cell_type": "code",
   "execution_count": 12,
   "metadata": {},
   "outputs": [],
   "source": [
    "x = np.linspace(-1, 10, 100)\n",
    "y = NewtonsDividedDifference(x, data, 5)"
   ]
  },
  {
   "cell_type": "code",
   "execution_count": 13,
   "metadata": {},
   "outputs": [
    {
     "data": {
      "image/png": "[encoded data removed]",
      "text/plain": [
       "<Figure size 432x288 with 1 Axes>"
      ]
     },
     "metadata": {
      "needs_background": "light"
     },
     "output_type": "display_data"
    }
   ],
   "source": [
    "plt.grid(True)\n",
    "plt.xlabel('x')\n",
    "plt.ylabel('y')\n",
    "plt.scatter(data[:,0],data[:,1], color='red', linewidths='10');\n",
    "plt.plot(x,y);"
   ]
  },
  {
   "cell_type": "code",
   "execution_count": null,
   "metadata": {},
   "outputs": [],
   "source": []
  }
 ],
 "metadata": {
  "kernelspec": {
   "display_name": "Python 3",
   "language": "python",
   "name": "python3"
  },
  "language_info": {
   "codemirror_mode": {
    "name": "ipython",
    "version": 3
   },
   "file_extension": ".py",
   "mimetype": "text/x-python",
   "name": "python",
   "nbconvert_exporter": "python",
   "pygments_lexer": "ipython3",
   "version": "3.7.3"
  }
 },
 "nbformat": 4,
 "nbformat_minor": 2
}
